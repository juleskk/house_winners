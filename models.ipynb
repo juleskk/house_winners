{
 "cells": [
  {
   "cell_type": "code",
   "execution_count": 439,
   "metadata": {
    "collapsed": true
   },
   "outputs": [],
   "source": [
    "import pandas as pd\n",
    "import numpy as np\n",
    "from matplotlib import pyplot as plt\n",
    "import pickle\n",
    "from operator import itemgetter\n",
    "from sklearn.preprocessing import (MinMaxScaler, StandardScaler)\n",
    "from sklearn.cross_validation import (cross_val_score, cross_val_predict,\n",
    "                                     train_test_split, ShuffleSplit, KFold)\n",
    "from sklearn.learning_curve import learning_curve\n",
    "%matplotlib inline\n",
    "from sklearn.metrics import (accuracy_score, roc_curve, auc, classification_report)\n",
    "from sklearn.metrics import *\n",
    "from sklearn.linear_model import LogisticRegression\n",
    "from sklearn.neighbors import KNeighborsClassifier\n",
    "from sklearn.naive_bayes import GaussianNB\n",
    "from sklearn.svm import SVC\n",
    "from sklearn.tree import DecisionTreeClassifier\n",
    "from sklearn.ensemble import RandomForestClassifier\n",
    "from sklearn.pipeline import make_pipeline\n",
    "from sklearn import preprocessing\n",
    "from sklearn.feature_selection import chi2\n",
    "import statsmodels.api as sm"
   ]
  },
  {
   "cell_type": "code",
   "execution_count": 353,
   "metadata": {
    "collapsed": true
   },
   "outputs": [],
   "source": [
    "df = pickle.load(open('data.p', 'r'))\n",
    "df = df.fillna(0)\n",
    "# df.loc[df.winner == 1, ['win']] = 'winner'\n",
    "# df.loc[df.winner==0, ['win']] = 'loser'"
   ]
  },
  {
   "cell_type": "code",
   "execution_count": 4,
   "metadata": {
    "collapsed": false
   },
   "outputs": [],
   "source": [
    "# money = ['itemproxy','unitemproxy','ieproxy','totalind','instate',\n",
    "#          'itemind', 'unitemagainst', 'itemagainst' ,'unitemfor',\n",
    "#          'unitemind', 'totalpacs','itempacs','unitempacs',\n",
    "#          'ieagainst','itemfor', 'iefor' , 'unitemtotal',  \n",
    "#          'itemtotal' ,'total', 'unitemie',  'itemie','percunitem',\n",
    "#          'percpacs', 'ie', 'percie','percind','percstate','total_sc']  \n",
    "\n",
    "# coms =['ecn' ,'tax',  'bus', 'rul', 'sci', 'tra', 'nat' ,'jud',\n",
    "#        'adm' ,'gov' ,'for' ,'ene' ,'edu', 'bud', 'ban' ,'arm',\n",
    "#        'app', 'pri', 'egw', 'lib', 'hsc', 'int', 'way', 'vet', \n",
    "#        'sta', 'agr']\n",
    "\n",
    "# bio = [ 'congyear' , 'feccandid', 'party', 'candname' , 'winner', 'cpo', 'office', 'state', 'district']\n",
    "# status = ['leader', 'chairman' ,'power', 'leadershipcom', 'leadership']\n",
    "# election = ['close2' 'close5' 'close10', 'vap',  'generalturnout', \n",
    "#             'primaryturnout' ,  'primary' , 'primaryperc' ,  'general' ,\n",
    "#             'generalperc' ]\n",
    "# misc = ['majorityprev', ]\n",
    "\n",
    "# drop = ['seat' , 'acceptpacs', 'cid',  'incumbent', 'open' , 'challenger']"
   ]
  },
  {
   "cell_type": "code",
   "execution_count": 451,
   "metadata": {
    "collapsed": false
   },
   "outputs": [],
   "source": [
    "X = df[['congyear', 'unitemagainst', 'itemagainst', 'itemind',\n",
    "'unitemind', 'itempacs', 'unitempacs', 'itemfor', \n",
    "'unitemfor', 'percunitem', 'party', 'ecn' ,'tax',  'bus', \n",
    "'sci', 'tra', 'nat' ,'jud', 'adm' ,'gov' ,'for' ,\n",
    "'ene' ,'edu', 'bud', 'ban' ,'arm','app', 'pri',\n",
    "'egw', 'lib', 'hsc', 'int', 'way', 'vet', 'sta', 'agr',\n",
    "'rul']].join(pd.get_dummies(df['cpo']))\n",
    "y = df['winner']\n",
    "\n",
    "# dataframe1 = df[['unitemagainst', 'itemagainst', 'itemind',\n",
    "# 'unitemind', 'itempacs', 'unitempacs', 'itemfor', \n",
    "# 'unitemfor', 'percunitem']]\n",
    "\n",
    "# dataframe2 = df[['congyear', 'party', 'ecn' ,'tax',  'bus', \n",
    "# 'sci', 'tra', 'nat' ,'jud', 'adm' ,'gov' ,'for' ,\n",
    "# 'ene' ,'edu', 'bud', 'ban' ,'arm','app', 'pri',\n",
    "# 'egw', 'lib', 'hsc', 'int', 'way', 'vet', 'sta', 'agr',\n",
    "# 'rul']].join(pd.get_dummies(df['cpo']))"
   ]
  },
  {
   "cell_type": "markdown",
   "metadata": {},
   "source": [
    "### Defining functions"
   ]
  },
  {
   "cell_type": "code",
   "execution_count": 430,
   "metadata": {
    "collapsed": false
   },
   "outputs": [],
   "source": [
    "def max_k(X, y, n=20):\n",
    "    temp = {}\n",
    "    cv = KFold(X.shape[0], n_folds=5, random_state=1)\n",
    "    for i in range(1, n+1):\n",
    "        temp[i] = np.mean(cross_val_score(KNeighborsClassifier(n_neighbors=i), X, y, scoring='accuracy', cv=cv))                \n",
    "    \n",
    "    k = int(max(temp.iteritems(), key=itemgetter(1))[0])\n",
    "    acc = float(max(temp.iteritems(), key=itemgetter(1))[1])    \n",
    "    return k, acc\n",
    "\n",
    "\n",
    "\n",
    "def graph_learning_curve(model, X, y, title):\n",
    "    m,train_err,ts_err = learning_curve(model,X,y,\n",
    "                                    train_sizes=np.linspace(0.4, 1.0, 50))\n",
    "    train_cv_err = np.mean(train_err,axis=1)\n",
    "    test_cv_err = np.mean(ts_err,axis=1)\n",
    "    tr, =plt.plot(m,train_cv_err)\n",
    "    ts, = plt.plot(m,test_cv_err)\n",
    "    plt.legend((tr,ts),('training','test'),loc='best')\n",
    "    plt.title('title')\n",
    "    return plt.show()\n",
    "    \n",
    "\n",
    "def make_roc(mod, X, y, title):\n",
    "    model = mod\n",
    "    X_train, X_test, y_train, y_test = train_test_split(X, y, test_size=0.2, random_state=46)\n",
    "    model.fit(X_train, y_train)\n",
    "    try:\n",
    "         y_score = mod.fit(X_train, Y_train).decision_function(X_test)\n",
    "    except:\n",
    "        y_score = (mod.fit(X_train, Y_train).predict_proba(X_test))[:,1]\n",
    "    \n",
    "    fpr = dict()\n",
    "    tpr = dict()\n",
    "    roc_auc = dict()\n",
    "    \n",
    "    fpr[i], tpr[i], _ = roc_curve(y_test, y_score)\n",
    "    roc_auc[i] = auc(fpr[i], tpr[i])\n",
    "    \n",
    "    alg_label = str(alg)\n",
    "    alg_label = alg_label[:alg_label.index('(')]\n",
    "    plt.plot(fpr[i], tpr[i], label='ROC curve of ' + alg_label+ '  (area = {1:0.2f})'.format(alg_label, roc_auc[i]))\n",
    "    plt.xlabel(\"False positive rate\")\n",
    "    plt.ylabel(\"True positive rate\")\n",
    "    labelname = title + \", (area = %0.3f)\" % area\n",
    "    plt.legend(loc = 4)\n",
    "    plt.show()\n",
    "\n",
    "def get_metrics(X, y, model_dic):\n",
    "    for mname, m in model_dic.iteritems():\n",
    "        print '\\n*** %s' % mname\n",
    "        acc = np.mean(cross_val_score(m, X, y, scoring='accuracy'))\n",
    "        pre = np.mean(cross_val_score(m, X, y, scoring='precision'))\n",
    "        rec = np.mean(cross_val_score(m, X, y, scoring='recall'))\n",
    "        f1 = np.mean(cross_val_score(m, X, y, scoring='f1'))\n",
    "        ll = np.mean(cross_val_score(m, X, y, scoring = 'log_loss'))\n",
    "        print 'cv score: %f' % np.mean(cross_val_score(m, X, y))\n",
    "        print 'accuracy: %f' % acc\n",
    "        print 'precision: %f' % pre\n",
    "        print 'recall: %f' % rec\n",
    "        print 'f1 score: %f' % f1\n",
    "        print 'logloss score: %f' %-ll\n",
    "\n",
    "\n",
    "def preprocess(dataframe1, dataframe2):\n",
    "    scaler = preprocessing.StandardScaler()\n",
    "    data_scaled = scaler.fit_transform(dataframe1)\n",
    "    preproc_data = pd.DataFrame(data_scaled)\n",
    "    preproc_data.columns = dataframe1.columns\n",
    "    data = preproc_data.join(dataframe2)\n",
    "    return data"
   ]
  },
  {
   "cell_type": "code",
   "execution_count": 381,
   "metadata": {
    "collapsed": false
   },
   "outputs": [
    {
     "data": {
      "text/plain": [
       "array([ 0.85967504,  0.87592319,  0.88330871,  0.89660266,  0.87592319])"
      ]
     },
     "execution_count": 381,
     "metadata": {},
     "output_type": "execute_result"
    }
   ],
   "source": [
    "n_samples = X.shape[0]\n",
    "cv = ShuffleSplit(n_samples, n_iter=5, test_size=0.3, random_state=0)\n",
    "clf = make_pipeline(preprocessing.StandardScaler(), LogisticRegression())\n",
    "cross_val_score(clf, X, y, cv=cv)"
   ]
  },
  {
   "cell_type": "code",
   "execution_count": 457,
   "metadata": {
    "collapsed": false
   },
   "outputs": [
    {
     "name": "stdout",
     "output_type": "stream",
     "text": [
      "Warning: Maximum number of iterations has been exceeded.\n",
      "         Current function value: 0.366801\n",
      "         Iterations: 35\n"
     ]
    },
    {
     "name": "stderr",
     "output_type": "stream",
     "text": [
      "/Users/Julia/anaconda/lib/python2.7/site-packages/statsmodels/base/model.py:466: ConvergenceWarning: Maximum Likelihood optimization failed to converge. Check mle_retvals\n",
      "  \"Check mle_retvals\", ConvergenceWarning)\n"
     ]
    },
    {
     "data": {
      "text/html": [
       "<table class=\"simpletable\">\n",
       "<caption>Logit Regression Results</caption>\n",
       "<tr>\n",
       "  <th>Dep. Variable:</th>      <td>winner</td>      <th>  No. Observations:  </th>   <td>  2256</td>  \n",
       "</tr>\n",
       "<tr>\n",
       "  <th>Model:</th>               <td>Logit</td>      <th>  Df Residuals:      </th>   <td>  2251</td>  \n",
       "</tr>\n",
       "<tr>\n",
       "  <th>Method:</th>               <td>MLE</td>       <th>  Df Model:          </th>   <td>     4</td>  \n",
       "</tr>\n",
       "<tr>\n",
       "  <th>Date:</th>          <td>Mon, 02 Nov 2015</td> <th>  Pseudo R-squ.:     </th>   <td>0.4662</td>  \n",
       "</tr>\n",
       "<tr>\n",
       "  <th>Time:</th>              <td>15:44:31</td>     <th>  Log-Likelihood:    </th>  <td> -827.50</td> \n",
       "</tr>\n",
       "<tr>\n",
       "  <th>converged:</th>           <td>False</td>      <th>  LL-Null:           </th>  <td> -1550.3</td> \n",
       "</tr>\n",
       "<tr>\n",
       "  <th> </th>                      <td> </td>        <th>  LLR p-value:       </th> <td>8.970e-312</td>\n",
       "</tr>\n",
       "</table>\n",
       "<table class=\"simpletable\">\n",
       "<tr>\n",
       "        <td></td>           <th>coef</th>     <th>std err</th>      <th>z</th>      <th>P>|z|</th> <th>[95.0% Conf. Int.]</th> \n",
       "</tr>\n",
       "<tr>\n",
       "  <th>congyear</th>      <td>   -0.0111</td> <td>    0.079</td> <td>   -0.140</td> <td> 0.889</td> <td>   -0.166     0.144</td>\n",
       "</tr>\n",
       "<tr>\n",
       "  <th>unitemagainst</th> <td>-7.065e-07</td> <td>  2.8e-07</td> <td>   -2.519</td> <td> 0.012</td> <td>-1.26e-06 -1.57e-07</td>\n",
       "</tr>\n",
       "<tr>\n",
       "  <th>C</th>             <td>   -2.1567</td> <td> 9.23e+06</td> <td>-2.34e-07</td> <td> 1.000</td> <td>-1.81e+07  1.81e+07</td>\n",
       "</tr>\n",
       "<tr>\n",
       "  <th>I</th>             <td>    2.2354</td> <td> 9.23e+06</td> <td> 2.42e-07</td> <td> 1.000</td> <td>-1.81e+07  1.81e+07</td>\n",
       "</tr>\n",
       "<tr>\n",
       "  <th>O</th>             <td>    0.0562</td> <td> 9.23e+06</td> <td> 6.09e-09</td> <td> 1.000</td> <td>-1.81e+07  1.81e+07</td>\n",
       "</tr>\n",
       "<tr>\n",
       "  <th>intercept</th>     <td>    0.1349</td> <td> 9.23e+06</td> <td> 1.46e-08</td> <td> 1.000</td> <td>-1.81e+07  1.81e+07</td>\n",
       "</tr>\n",
       "</table>"
      ],
      "text/plain": [
       "<class 'statsmodels.iolib.summary.Summary'>\n",
       "\"\"\"\n",
       "                           Logit Regression Results                           \n",
       "==============================================================================\n",
       "Dep. Variable:                 winner   No. Observations:                 2256\n",
       "Model:                          Logit   Df Residuals:                     2251\n",
       "Method:                           MLE   Df Model:                            4\n",
       "Date:                Mon, 02 Nov 2015   Pseudo R-squ.:                  0.4662\n",
       "Time:                        15:44:31   Log-Likelihood:                -827.50\n",
       "converged:                      False   LL-Null:                       -1550.3\n",
       "                                        LLR p-value:                8.970e-312\n",
       "=================================================================================\n",
       "                    coef    std err          z      P>|z|      [95.0% Conf. Int.]\n",
       "---------------------------------------------------------------------------------\n",
       "congyear         -0.0111      0.079     -0.140      0.889        -0.166     0.144\n",
       "unitemagainst -7.065e-07    2.8e-07     -2.519      0.012     -1.26e-06 -1.57e-07\n",
       "C                -2.1567   9.23e+06  -2.34e-07      1.000     -1.81e+07  1.81e+07\n",
       "I                 2.2354   9.23e+06   2.42e-07      1.000     -1.81e+07  1.81e+07\n",
       "O                 0.0562   9.23e+06   6.09e-09      1.000     -1.81e+07  1.81e+07\n",
       "intercept         0.1349   9.23e+06   1.46e-08      1.000     -1.81e+07  1.81e+07\n",
       "=================================================================================\n",
       "\"\"\""
      ]
     },
     "execution_count": 457,
     "metadata": {},
     "output_type": "execute_result"
    }
   ],
   "source": [
    "# X = preprocess(dataframe1, dataframe2)\n",
    "# y = df['winner']\n",
    "# X_train, X_test, y_train, y_test = train_test_split(X, y, test_size=0.25, random_state=10)\n",
    "# X = preprocess(dataframe1, dataframe2)\n",
    "# def get_scores_coef(model_dict):\n",
    "#     for mname, m in model_dict.iteritems():\n",
    "#         print \"*** %s\" % mname\n",
    "#         m.fit(X_train, y_train)\n",
    "#         preds = m.predict(X_test)\n",
    "#         proba = m.predict_proba(X_test)\n",
    "#         print 'accuracy: %f' % accuracy_score(y_test, preds)\n",
    "#         print 'precision: %f' % precision_score(y_test, preds)\n",
    "#         print 'recall: %f' % recall_score(y_test, preds)\n",
    "#         print 'f1 score: %f' % f1_score(y_test, preds)\n",
    "#         print '\\n'\n",
    "#         coefs = sorted(zip(m.coef_[0], X_train.columns))\n",
    "#         for coef in coefs:\n",
    "#             print '%.05f \\t%s' % (coef)\n",
    "      \n",
    "#         return coefs\n",
    "    \n",
    "# get_scores_coef({'logistic': LogisticRegression()})\n",
    "# X['intercept'] = 1.\n",
    "\n",
    "X = df[['congyear', 'unitemagainst']].join(pd.get_dummies(df['cpo']))\n",
    "X['intercept'] = 1.\n",
    "y = df['winner']\n",
    "logit = sm.Logit(y, X)\n",
    "res = logit.fit()\n",
    "res.summary()\n"
   ]
  },
  {
   "cell_type": "code",
   "execution_count": 449,
   "metadata": {
    "collapsed": false
   },
   "outputs": [
    {
     "ename": "NameError",
     "evalue": "global name 'Y_train' is not defined",
     "output_type": "error",
     "traceback": [
      "\u001b[0;31m---------------------------------------------------------------------------\u001b[0m",
      "\u001b[0;31mNameError\u001b[0m                                 Traceback (most recent call last)",
      "\u001b[0;32m<ipython-input-449-2cb0ffd66086>\u001b[0m in \u001b[0;36m<module>\u001b[0;34m()\u001b[0m\n\u001b[1;32m      3\u001b[0m \u001b[0;34m\u001b[0m\u001b[0m\n\u001b[1;32m      4\u001b[0m \u001b[0mplt\u001b[0m\u001b[0;34m.\u001b[0m\u001b[0mplot\u001b[0m\u001b[0;34m(\u001b[0m\u001b[0;34m)\u001b[0m\u001b[0;34m\u001b[0m\u001b[0m\n\u001b[0;32m----> 5\u001b[0;31m \u001b[0mmake_roc\u001b[0m\u001b[0;34m(\u001b[0m\u001b[0mmake_pipeline\u001b[0m\u001b[0;34m(\u001b[0m\u001b[0mpreprocessing\u001b[0m\u001b[0;34m.\u001b[0m\u001b[0mStandardScaler\u001b[0m\u001b[0;34m(\u001b[0m\u001b[0;34m)\u001b[0m\u001b[0;34m,\u001b[0m \u001b[0mLogisticRegression\u001b[0m\u001b[0;34m(\u001b[0m\u001b[0;34m)\u001b[0m\u001b[0;34m)\u001b[0m\u001b[0;34m,\u001b[0m \u001b[0mX\u001b[0m\u001b[0;34m,\u001b[0m \u001b[0my\u001b[0m\u001b[0;34m,\u001b[0m \u001b[0;34m\"title\"\u001b[0m\u001b[0;34m)\u001b[0m\u001b[0;34m\u001b[0m\u001b[0m\n\u001b[0m",
      "\u001b[0;32m<ipython-input-430-8834b8df72a8>\u001b[0m in \u001b[0;36mmake_roc\u001b[0;34m(mod, X, y, title)\u001b[0m\n\u001b[1;32m     30\u001b[0m          \u001b[0my_score\u001b[0m \u001b[0;34m=\u001b[0m \u001b[0mmod\u001b[0m\u001b[0;34m.\u001b[0m\u001b[0mfit\u001b[0m\u001b[0;34m(\u001b[0m\u001b[0mX_train\u001b[0m\u001b[0;34m,\u001b[0m \u001b[0mY_train\u001b[0m\u001b[0;34m)\u001b[0m\u001b[0;34m.\u001b[0m\u001b[0mdecision_function\u001b[0m\u001b[0;34m(\u001b[0m\u001b[0mX_test\u001b[0m\u001b[0;34m)\u001b[0m\u001b[0;34m\u001b[0m\u001b[0m\n\u001b[1;32m     31\u001b[0m     \u001b[0;32mexcept\u001b[0m\u001b[0;34m:\u001b[0m\u001b[0;34m\u001b[0m\u001b[0m\n\u001b[0;32m---> 32\u001b[0;31m         \u001b[0my_score\u001b[0m \u001b[0;34m=\u001b[0m \u001b[0;34m(\u001b[0m\u001b[0mmod\u001b[0m\u001b[0;34m.\u001b[0m\u001b[0mfit\u001b[0m\u001b[0;34m(\u001b[0m\u001b[0mX_train\u001b[0m\u001b[0;34m,\u001b[0m \u001b[0mY_train\u001b[0m\u001b[0;34m)\u001b[0m\u001b[0;34m.\u001b[0m\u001b[0mpredict_proba\u001b[0m\u001b[0;34m(\u001b[0m\u001b[0mX_test\u001b[0m\u001b[0;34m)\u001b[0m\u001b[0;34m)\u001b[0m\u001b[0;34m[\u001b[0m\u001b[0;34m:\u001b[0m\u001b[0;34m,\u001b[0m\u001b[0;36m1\u001b[0m\u001b[0;34m]\u001b[0m\u001b[0;34m\u001b[0m\u001b[0m\n\u001b[0m\u001b[1;32m     33\u001b[0m \u001b[0;34m\u001b[0m\u001b[0m\n\u001b[1;32m     34\u001b[0m     \u001b[0mfpr\u001b[0m \u001b[0;34m=\u001b[0m \u001b[0mdict\u001b[0m\u001b[0;34m(\u001b[0m\u001b[0;34m)\u001b[0m\u001b[0;34m\u001b[0m\u001b[0m\n",
      "\u001b[0;31mNameError\u001b[0m: global name 'Y_train' is not defined"
     ]
    },
    {
     "data": {
      "image/png": "[encoded data removed]",
      "text/plain": [
       "<matplotlib.figure.Figure at 0x10d6a0f10>"
      ]
     },
     "metadata": {},
     "output_type": "display_data"
    }
   ],
   "source": [
    "model_dic = {'log': LogisticRegression(),\n",
    "            'log_scaled': make_pipeline(preprocessing.StandardScaler(), LogisticRegression())}\n",
    "\n",
    "plt.plot()     \n",
    "make_roc(make_pipeline(preprocessing.StandardScaler(), LogisticRegression()), X, y, \"title\")\n"
   ]
  },
  {
   "cell_type": "code",
   "execution_count": 411,
   "metadata": {
    "collapsed": true
   },
   "outputs": [],
   "source": [
    "X = df[['congyear', 'unitemagainst', 'itemagainst', 'itemind',\n",
    "'unitemind', 'itempacs', 'unitempacs', 'itemfor', \n",
    "'unitemfor', 'percunitem', 'party', 'ecn' ,'tax',  'bus', \n",
    "'sci', 'tra', 'nat' ,'jud', 'adm' ,'gov' ,'for' ,\n",
    "'ene' ,'edu', 'bud', 'ban' ,'arm','app', 'pri',\n",
    "'egw', 'lib', 'hsc', 'int', 'way', 'vet', 'sta', 'agr',\n",
    "'rul']].join(pd.get_dummies(df['cpo']))\n",
    "y = df['winner']"
   ]
  },
  {
   "cell_type": "code",
   "execution_count": 416,
   "metadata": {
    "collapsed": false
   },
   "outputs": [
    {
     "data": {
      "text/plain": [
       "array([[ -1.89892201e-09,  -1.55476492e-06,  -5.27957867e-07,\n",
       "         -1.44612180e-07,  -7.80186563e-08,   4.62189817e-06,\n",
       "          1.63323469e-06,  -5.36755706e-07,  -3.29410946e-06,\n",
       "         -4.02873017e-10,  -1.29143194e-09,   5.36489073e-12,\n",
       "          6.46326712e-12,   9.12009269e-12,   4.67573890e-11,\n",
       "          1.72458673e-11,   7.54089075e-11,   5.22456759e-11,\n",
       "          1.34723956e-11,   6.13568368e-11,   6.34307622e-11,\n",
       "          3.78943776e-11,   7.13184727e-11,   2.66465843e-11,\n",
       "          4.51107130e-11,   6.34533510e-11,   6.67249215e-11,\n",
       "          8.17461439e-12,   1.31932240e-11,   9.45120521e-12,\n",
       "          3.67251319e-11,   4.10281096e-11,   1.85578409e-11,\n",
       "          7.22518722e-12,   1.40987826e-11,   6.74754970e-12,\n",
       "          1.95342182e-11,  -1.28158179e-09,   3.71668471e-10,\n",
       "         -5.03048280e-11]])"
      ]
     },
     "execution_count": 416,
     "metadata": {},
     "output_type": "execute_result"
    }
   ],
   "source": [
    "\n",
    "X_train, X_test, y_train, y_test = train_test_split(X, y, test_size=0.25, random_state=10)\n",
    "log = LogisticRegression()\n",
    "log.fit(X_train, y_train).predict(X_test)\n",
    "log.coef_\n",
    "# # coefs = sorted(zip(log.coef_[0], X_train.columns))\n",
    "# # for coef in coefs:\n",
    "# #     print '%.05f \\t%s' % (coef)\n",
    "# # log.coef_\n",
    "# # zip(list(X_train.columns), round(log.coef_[0], 3))\n",
    "# np.round(log.coef_, 6)"
   ]
  },
  {
   "cell_type": "code",
   "execution_count": null,
   "metadata": {
    "collapsed": true
   },
   "outputs": [],
   "source": [
    "for mname, m in model_dic.iteritems():\n",
    "    coefs = sorted(zip(m.coef_[0], X_tr.columns))\n",
    "        for coef in coefs:\n",
    "            print '%.05f \\t%s' % (coef)\n",
    "        all_preds[mname] = preds\n",
    "        all_proba[mname] = proba\n",
    "        return coefs\n"
   ]
  },
  {
   "cell_type": "markdown",
   "metadata": {},
   "source": [
    "### Starting with logistic"
   ]
  },
  {
   "cell_type": "markdown",
   "metadata": {},
   "source": [
    "### Learning Curve "
   ]
  },
  {
   "cell_type": "code",
   "execution_count": null,
   "metadata": {
    "collapsed": true
   },
   "outputs": [],
   "source": [
    "scoresTrain = []\n",
    "scoresTest=[]\n",
    "for i in range(1, 21):\n",
    "        temp[i] = np.mean(cross_val_score(KNeighborsClassifier(n_neighbors=i), X, y, scoring='accuracy', cv=cv))  \n",
    "    \n",
    "    \n",
    "    \n",
    "    model = KNeighborsClassifier(n_neighbors=i)\n",
    "    model.fit(X_train, y_train.ravel())\n",
    "    y_train_pred = model.predict(X_train)\n",
    "    scoresTrain.append(accuracy_score(y_train, y_train_pred))\n",
    "    y_test_pred = model.predict(X_test)\n",
    "    scoresTest.append(accuracy_score(y_test, y_test_pred))\n"
   ]
  },
  {
   "cell_type": "code",
   "execution_count": 62,
   "metadata": {
    "collapsed": false
   },
   "outputs": [],
   "source": [
    "def plot_learning_curve(estimator,X, y):\n",
    "    plt.figure()\n",
    "\n",
    "#     plt.xlabel(\"Training examples\")\n",
    "#     plt.ylabel(\"Score\")\n",
    "    cv = ShuffleSplit(X.shape[0], n_iter=10, test_size=0.3, random_state=1)\n",
    "    train_sizes, train_scores, test_scores = learning_curve(\n",
    "        estimator, X, y, cv=cv)\n",
    "    train_scores_mean = np.mean(train_scores, axis=1)\n",
    "    train_scores_std = np.std(train_scores, axis=1)\n",
    "    test_scores_mean = np.mean(test_scores, axis=1)\n",
    "    test_scores_std = np.std(test_scores, axis=1)\n",
    "    plt.grid()\n",
    "\n",
    "    plt.fill_between(train_sizes, train_scores_mean - train_scores_std,\n",
    "                     train_scores_mean + train_scores_std, alpha=0.1,\n",
    "                     color=\"r\")\n",
    "    plt.fill_between(train_sizes, test_scores_mean - test_scores_std,\n",
    "                     test_scores_mean + test_scores_std, alpha=0.1, color=\"g\")\n",
    "    plt.plot(train_sizes, train_scores_mean, 'o-', color=\"r\",\n",
    "             label=\"Training score\")\n",
    "    plt.plot(train_sizes, test_scores_mean, 'o-', color=\"g\",\n",
    "             label=\"Cross-validation score\")\n",
    "\n",
    "    plt.legend(loc=\"best\")\n",
    "    return plt\n",
    "\n",
    "\n",
    "\n",
    "    "
   ]
  },
  {
   "cell_type": "code",
   "execution_count": 75,
   "metadata": {
    "collapsed": false
   },
   "outputs": [
    {
     "data": {
      "text/plain": [
       "<module 'matplotlib.pyplot' from '/Users/Julia/anaconda/lib/python2.7/site-packages/matplotlib/pyplot.pyc'>"
      ]
     },
     "execution_count": 75,
     "metadata": {},
     "output_type": "execute_result"
    },
    {
     "data": {
      "image/png": "[encoded data removed]",
      "text/plain": [
       "<matplotlib.figure.Figure at 0x10bb4f4d0>"
      ]
     },
     "metadata": {},
     "output_type": "display_data"
    }
   ],
   "source": [
    "plot_learning_curve(LogisticRegression(), X, y)"
   ]
  },
  {
   "cell_type": "markdown",
   "metadata": {},
   "source": [
    "# ROC"
   ]
  },
  {
   "cell_type": "code",
   "execution_count": 324,
   "metadata": {
    "collapsed": false
   },
   "outputs": [],
   "source": [
    "def graph_roc(model, X, y, title):\n",
    "    m,train_err,ts_err = learning_curve(model,X,y,\n",
    "                                    train_sizes=np.linspace(0.4, 1.0, 50))\n",
    "    train_cv_err = np.mean(train_err,axis=1)\n",
    "    test_cv_err = np.mean(ts_err,axis=1)\n",
    "    tr, =plt.plot(m,train_cv_err)\n",
    "    ts, = plt.plot(m,test_cv_err)\n",
    "    plt.legend((tr,ts),('training','test'),loc='best')\n",
    "    plt.title('title')\n",
    "    return plt.show()"
   ]
  }
 ],
 "metadata": {
  "kernelspec": {
   "display_name": "Python 2",
   "language": "python",
   "name": "python2"
  },
  "language_info": {
   "codemirror_mode": {
    "name": "ipython",
    "version": 2
   },
   "file_extension": ".py",
   "mimetype": "text/x-python",
   "name": "python",
   "nbconvert_exporter": "python",
   "pygments_lexer": "ipython2",
   "version": "2.7.10"
  }
 },
 "nbformat": 4,
 "nbformat_minor": 0
}
