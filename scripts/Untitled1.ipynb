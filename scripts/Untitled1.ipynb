{
 "cells": [
  {
   "cell_type": "code",
   "execution_count": 72,
   "metadata": {
    "collapsed": false
   },
   "outputs": [],
   "source": [
    "# check for necessary \n",
    "from __future__ import division\n",
    "import pandas as pd\n",
    "import numpy as np\n",
    "from matplotlib import pyplot as plt\n",
    "from sklearn.preprocessing import (StandardScaler, MinMaxScaler)\n",
    "from sklearn.cross_validation import train_test_split\n",
    "from sklearn.metrics import (accuracy_score, precision_score, recall_score,\n",
    "                             f1_score, roc_curve, auc, log_loss, classification_report)\n",
    "from sklearn.linear_model import LogisticRegression\n",
    "from sklearn.neighbors import KNeighborsClassifier\n",
    "from operator import itemgetter\n",
    "import pickle\n",
    "\n",
    "\n",
    "import seaborn as sns\n",
    "import plotly.plotly as py\n",
    "from plotly.graph_objs import *\n",
    "from scipy import stats\n",
    "from scipy.stats import (median_test, mannwhitneyu)\n",
    "\n",
    "\n",
    "\n",
    "from sklearn.feature_selection import chi2\n",
    "\n",
    "from sklearn.learning_curve import learning_curve\n",
    "from sklearn.naive_bayes import GaussianNB\n",
    "from sklearn.svm import SVC\n",
    "from sklearn.tree import DecisionTreeClassifier\n",
    "from sklearn.ensemble import RandomForestClassifier\n",
    "from sklearn.cross_validation import (cross_val_score, cross_val_predict)\n",
    "\n",
    "from sklearn import preprocessing\n",
    "%matplotlib inline\n",
    "\n",
    "from sklearn.externals.six import StringIO\n",
    "import pydot\n",
    "\n",
    "from sklearn import tree\n",
    "from sklearn.feature_selection import RFE\n",
    "from sklearn.ensemble import GradientBoostingClassifier\n",
    "from sklearn import datasets, svm\n",
    "from sklearn.feature_selection import SelectPercentile, f_classif\n",
    "from sklearn.metrics import confusion_matrix\n",
    "import seaborn as sns\n",
    "from sklearn.metrics import classification_report\n",
    "from sklearn import cross_validation\n"
   ]
  },
  {
   "cell_type": "code",
   "execution_count": 22,
   "metadata": {
    "collapsed": false
   },
   "outputs": [],
   "source": [
    "df = pd.read_pickle('../datafiles/data.p')"
   ]
  },
  {
   "cell_type": "code",
   "execution_count": 133,
   "metadata": {
    "collapsed": false
   },
   "outputs": [
    {
     "ename": "SyntaxError",
     "evalue": "invalid syntax (<ipython-input-133-42675404d103>, line 1)",
     "output_type": "error",
     "traceback": [
      "\u001b[0;36m  File \u001b[0;32m\"<ipython-input-133-42675404d103>\"\u001b[0;36m, line \u001b[0;32m1\u001b[0m\n\u001b[0;31m    df['leadership'].apply(lambda x: x =1 if x !=0)\u001b[0m\n\u001b[0m                                                  ^\u001b[0m\n\u001b[0;31mSyntaxError\u001b[0m\u001b[0;31m:\u001b[0m invalid syntax\n"
     ]
    }
   ],
   "source": [
    "df['leadership', '']"
   ]
  },
  {
   "cell_type": "code",
   "execution_count": 39,
   "metadata": {
    "collapsed": false
   },
   "outputs": [],
   "source": [
    "money = ['itemproxy','unitemproxy','ieproxy','totalind','instate',\n",
    "         'itemind', 'unitemagainst', 'itemagainst' ,'unitemfor',\n",
    "         'unitemind', 'totalpacs','itempacs','unitempacs',\n",
    "         'ieagainst','itemfor', 'iefor' , 'unitemtotal',  \n",
    "         'itemtotal' ,'total', 'unitemie',  'itemie','percunitem',\n",
    "         'percpacs', 'ie', 'percie','percind','percstate']\n",
    "\n",
    "coms =['ecn' ,'tax',  'bus', 'rul', 'sci', 'tra', 'nat' ,'jud',\n",
    "       'adm' ,'gov' ,'for' ,'ene' ,'edu', 'bud', 'ban' ,'arm',\n",
    "       'app', 'pri', 'egw', 'lib', 'hsc', 'int', 'way', 'vet', \n",
    "       'sta', 'agr']\n",
    "\n",
    "bio = [ 'congyear' , 'feccandid', 'party', 'candname' , 'winner', 'cpo', 'office', 'state', 'district']\n",
    "status = ['leader', 'chairman' ,'power', 'leadershipcom', 'leadership']\n",
    "election = ['close2' , 'close5', 'close10', 'vap',  'generalturnout', \n",
    "            'primaryturnout' ,  'primary' , 'primaryperc' ,  'general','generalperc' ]\n",
    "misc = ['majorityprev', ]\n",
    "\n",
    "drop = ['seat' , 'acceptpacs', 'cid',  'incumbent', 'open' , 'challenger']"
   ]
  },
  {
   "cell_type": "markdown",
   "metadata": {},
   "source": [
    "## Setting up"
   ]
  },
  {
   "cell_type": "code",
   "execution_count": 23,
   "metadata": {
    "collapsed": true
   },
   "outputs": [],
   "source": [
    "###################################\n",
    "# Functions\n",
    "###################################\n",
    "\n",
    "# Find optimal number of neighbors for KNN\n",
    "def max_k(X, y, n=20):\n",
    "   \n",
    "    X_train,X_test,y_train,y_test = train_test_split(X ,y,test_size=0.3, random_state=42)\n",
    "    k_list = []\n",
    "    temp = {}\n",
    "    for i in range(1, n+1):\n",
    "        model = KNeighborsClassifier(n_neighbors=i).fit(X_train, y_train)\n",
    "        temp[i] = accuracy_score(y_test, model.predict(X_test))\n",
    "    n = int(max(temp.iteritems(), key=itemgetter(1))[0]) \n",
    "    kvalue = float(max(temp.iteritems(), key=itemgetter(1))[1])                 \n",
    "    \n",
    "    return n\n"
   ]
  },
  {
   "cell_type": "code",
   "execution_count": 57,
   "metadata": {
    "collapsed": false
   },
   "outputs": [],
   "source": [
    "# Preprocessing \n",
    "money_df = df[money] \n",
    "min_max_scaler = MinMaxScaler()\n",
    "scaled = min_max_scaler.fit_transform(money_df)\n",
    "scaled_df = pd.DataFrame(scaled, columns = money_df.columns)\n",
    "\n",
    "          \n"
   ]
  },
  {
   "cell_type": "code",
   "execution_count": 69,
   "metadata": {
    "collapsed": false
   },
   "outputs": [],
   "source": [
    "# X = scaled_df.join(df[['ecn' ,'tax',  'bus', 'rul', 'sci', 'tra', 'nat' ,'jud',\n",
    "#            'adm' ,'gov' ,'for' ,'ene' ,'edu', 'bud', 'ban' ,'arm',\n",
    "#            'app', 'pri', 'egw', 'lib', 'hsc', 'int', 'way', 'vet',\n",
    "#            'sta', 'agr', 'congyear', 'party', 'winner', 'c', 'i', 'o',\n",
    "#            'leader', 'chairman' ,'power', 'leadershipcom', 'leadership',\n",
    "#            'primaryperc', 'majorityprev']])\n",
    "\n",
    "y = df['winner']\n",
    "X = df[['c', 'i', 'o', 'party']]"
   ]
  },
  {
   "cell_type": "markdown",
   "metadata": {},
   "source": [
    "# Logistic Regression"
   ]
  },
  {
   "cell_type": "code",
   "execution_count": 73,
   "metadata": {
    "collapsed": false
   },
   "outputs": [
    {
     "name": "stdout",
     "output_type": "stream",
     "text": [
      "classification report\n",
      "             precision    recall  f1-score   support\n",
      "\n",
      "          0       0.85      0.85      0.85       313\n",
      "          1       0.87      0.87      0.87       364\n",
      "\n",
      "avg / total       0.86      0.86      0.86       677\n",
      "\n",
      "Accuracy Score: 0.8580\n",
      "Precision: 0.8680\n",
      "Recall: 0.8680\n",
      "F1: 0.8680\n"
     ]
    }
   ],
   "source": [
    "# Juat train/test split\n",
    "\n",
    "log = LogisticRegression()\n",
    "X_train,X_test,y_train,y_test = train_test_split(X ,y,test_size=0.3, random_state=42)\n",
    "model = log.fit(X_train, y_train)\n",
    "y_pred = model.predict(X_test)\n",
    "print \"classification report\"\n",
    "print classification_report(y_test, y_pred)\n",
    "print \"Accuracy Score: %.4f\" % round(accuracy_score(y_test, y_pred), 3)\n",
    "print \"Precision: %.4f\" % round(precision_score(y_test, y_pred),3)\n",
    "print \"Recall: %.4f\" % round(recall_score(y_test, y_pred),3)\n",
    "print \"F1: %.4f\" % round(f1_score(y_test, y_pred),3)\n",
    "                           \n",
    "# # models = [LogisticRegression, RandomForestClassifier, KNeighborsClassifier,\n",
    "# #           SVC, DecisionTreeClassifier, GaussianNB, GradientBoostingClassifier]\n",
    "\n",
    "# if algo == KNeighborsClassifier:\n",
    "#     accs = []\n",
    "#     for n in range(1,50):\n",
    "#     model = KNeighborsClassifier(n_neighbors=n).fit(X_train,Y_train)\n",
    "#     y_pred = model.predict(X_test)\n",
    "#     accuracy = accuracy_score(y_test, Y_pred)\n",
    "#     accs.append({n:accuracy})\n",
    "\n",
    "# Predicting 1-0: Logistic, Naive Bayes, SVM, decision trees\n",
    "# Predicting proba: Log, SVM(prob=True)"
   ]
  },
  {
   "cell_type": "code",
   "execution_count": 126,
   "metadata": {
    "collapsed": false
   },
   "outputs": [
    {
     "ename": "TypeError",
     "evalue": "data type not understood",
     "output_type": "error",
     "traceback": [
      "\u001b[0;31m---------------------------------------------------------------------------\u001b[0m",
      "\u001b[0;31mTypeError\u001b[0m                                 Traceback (most recent call last)",
      "\u001b[0;32m<ipython-input-126-7712b587aad2>\u001b[0m in \u001b[0;36m<module>\u001b[0;34m()\u001b[0m\n\u001b[1;32m      3\u001b[0m \u001b[0;31m#         for coef in coefs:\u001b[0m\u001b[0;34m\u001b[0m\u001b[0;34m\u001b[0m\u001b[0m\n\u001b[1;32m      4\u001b[0m \u001b[0;31m#             print '%.05f \\t%s' % (coef)\u001b[0m\u001b[0;34m\u001b[0m\u001b[0;34m\u001b[0m\u001b[0m\n\u001b[0;32m----> 5\u001b[0;31m \u001b[0mnp\u001b[0m\u001b[0;34m.\u001b[0m\u001b[0mmatrix\u001b[0m\u001b[0;34m(\u001b[0m\u001b[0mX_train\u001b[0m\u001b[0;34m.\u001b[0m\u001b[0mcolumns\u001b[0m\u001b[0;34m,\u001b[0m \u001b[0;34m[\u001b[0m\u001b[0mround\u001b[0m\u001b[0;34m(\u001b[0m\u001b[0mx\u001b[0m\u001b[0;34m,\u001b[0m \u001b[0;36m3\u001b[0m\u001b[0;34m)\u001b[0m \u001b[0;32mfor\u001b[0m \u001b[0mx\u001b[0m \u001b[0;32min\u001b[0m \u001b[0mmodel\u001b[0m\u001b[0;34m.\u001b[0m\u001b[0mcoef_\u001b[0m\u001b[0;34m[\u001b[0m\u001b[0;36m0\u001b[0m\u001b[0;34m]\u001b[0m\u001b[0;34m]\u001b[0m\u001b[0;34m)\u001b[0m\u001b[0;34m\u001b[0m\u001b[0m\n\u001b[0m",
      "\u001b[0;32m/Users/Julia/anaconda/lib/python2.7/site-packages/numpy/matrixlib/defmatrix.pyc\u001b[0m in \u001b[0;36m__new__\u001b[0;34m(subtype, data, dtype, copy)\u001b[0m\n\u001b[1;32m    266\u001b[0m \u001b[0;34m\u001b[0m\u001b[0m\n\u001b[1;32m    267\u001b[0m         \u001b[0;31m# now convert data to an array\u001b[0m\u001b[0;34m\u001b[0m\u001b[0;34m\u001b[0m\u001b[0m\n\u001b[0;32m--> 268\u001b[0;31m         \u001b[0marr\u001b[0m \u001b[0;34m=\u001b[0m \u001b[0mN\u001b[0m\u001b[0;34m.\u001b[0m\u001b[0marray\u001b[0m\u001b[0;34m(\u001b[0m\u001b[0mdata\u001b[0m\u001b[0;34m,\u001b[0m \u001b[0mdtype\u001b[0m\u001b[0;34m=\u001b[0m\u001b[0mdtype\u001b[0m\u001b[0;34m,\u001b[0m \u001b[0mcopy\u001b[0m\u001b[0;34m=\u001b[0m\u001b[0mcopy\u001b[0m\u001b[0;34m)\u001b[0m\u001b[0;34m\u001b[0m\u001b[0m\n\u001b[0m\u001b[1;32m    269\u001b[0m         \u001b[0mndim\u001b[0m \u001b[0;34m=\u001b[0m \u001b[0marr\u001b[0m\u001b[0;34m.\u001b[0m\u001b[0mndim\u001b[0m\u001b[0;34m\u001b[0m\u001b[0m\n\u001b[1;32m    270\u001b[0m         \u001b[0mshape\u001b[0m \u001b[0;34m=\u001b[0m \u001b[0marr\u001b[0m\u001b[0;34m.\u001b[0m\u001b[0mshape\u001b[0m\u001b[0;34m\u001b[0m\u001b[0m\n",
      "\u001b[0;31mTypeError\u001b[0m: data type not understood"
     ]
    }
   ],
   "source": [
    "zip( X_train.columns, [round(x, 3) for x in model.coef_[0]])\n",
    "#  coefs = sorted(zip(m.coef_[0], X_tr.columns))\n",
    "#         for coef in coefs:\n",
    "#             print '%.05f \\t%s' % (coef)\n"
   ]
  },
  {
   "cell_type": "code",
   "execution_count": 113,
   "metadata": {
    "collapsed": false
   },
   "outputs": [
    {
     "data": {
      "text/html": [
       "<div style=\"max-height:1000px;max-width:1500px;overflow:auto;\">\n",
       "<table border=\"1\" class=\"dataframe\">\n",
       "  <thead>\n",
       "    <tr style=\"text-align: right;\">\n",
       "      <th></th>\n",
       "      <th>coef</th>\n",
       "      <th>p</th>\n",
       "      <th>variable</th>\n",
       "    </tr>\n",
       "  </thead>\n",
       "  <tbody>\n",
       "    <tr>\n",
       "      <th>0</th>\n",
       "      <td>694.8329</td>\n",
       "      <td>0.0000</td>\n",
       "      <td>c</td>\n",
       "    </tr>\n",
       "    <tr>\n",
       "      <th>1</th>\n",
       "      <td>566.4009</td>\n",
       "      <td>0.0000</td>\n",
       "      <td>i</td>\n",
       "    </tr>\n",
       "    <tr>\n",
       "      <th>2</th>\n",
       "      <td>0.9843</td>\n",
       "      <td>0.3211</td>\n",
       "      <td>o</td>\n",
       "    </tr>\n",
       "    <tr>\n",
       "      <th>3</th>\n",
       "      <td>0.2332</td>\n",
       "      <td>0.6292</td>\n",
       "      <td>party</td>\n",
       "    </tr>\n",
       "  </tbody>\n",
       "</table>\n",
       "</div>"
      ],
      "text/plain": [
       "       coef       p variable\n",
       "0  694.8329  0.0000        c\n",
       "1  566.4009  0.0000        i\n",
       "2    0.9843  0.3211        o\n",
       "3    0.2332  0.6292    party"
      ]
     },
     "execution_count": 113,
     "metadata": {},
     "output_type": "execute_result"
    }
   ],
   "source": [
    "def get_coefs(X, y):\n",
    "    chi = chi2(X, y)\n",
    "    d = {'variable': list(X.columns.values),\n",
    "    'coef': [round(x,4) for x in chi[0]],\n",
    "    'p': [round(x,4) for x in chi[1]]}\n",
    "pd.DataFrame(d)"
   ]
  },
  {
   "cell_type": "code",
   "execution_count": 77,
   "metadata": {
    "collapsed": false
   },
   "outputs": [
    {
     "name": "stdout",
     "output_type": "stream",
     "text": [
      "\n",
      "\n",
      "0.0001\n",
      "--------------------\n",
      "\n",
      "   accuracy score             0.7070 \n",
      "   precision score            0.6654 \n",
      "   recall score               0.9730 \n",
      "   f1 score                   0.7878 \n",
      "\n",
      "\n",
      "0.001\n",
      "--------------------\n",
      "\n",
      "   accuracy score             0.8555 \n",
      "   precision score            0.8923 \n",
      "   recall score               0.9230 \n",
      "   f1 score                   0.8699 \n",
      "\n",
      "\n",
      "0.01\n",
      "--------------------\n",
      "\n",
      "   accuracy score             0.8555 \n",
      "   precision score            0.8923 \n",
      "   recall score               0.9230 \n",
      "   f1 score                   0.8699 \n",
      "\n",
      "\n",
      "0.1\n",
      "--------------------\n",
      "\n",
      "   accuracy score             0.8444 \n",
      "   precision score            0.8367 \n",
      "   recall score               0.8230 \n",
      "   f1 score                   0.7985 \n",
      "\n",
      "\n",
      "1\n",
      "--------------------\n",
      "\n",
      "   accuracy score             0.8484 \n",
      "   precision score            0.8395 \n",
      "   recall score               0.8182 \n",
      "   f1 score                   0.7994 \n",
      "\n",
      "\n",
      "10\n",
      "--------------------\n",
      "\n",
      "   accuracy score             0.8484 \n",
      "   precision score            0.8395 \n",
      "   recall score               0.8182 \n",
      "   f1 score                   0.7994 \n",
      "\n",
      "\n",
      "100\n",
      "--------------------\n",
      "\n",
      "   accuracy score             0.8484 \n",
      "   precision score            0.8395 \n",
      "   recall score               0.8182 \n",
      "   f1 score                   0.7994 \n"
     ]
    }
   ],
   "source": [
    "# Choosing penalty for logistic regression\n",
    "c = [.0001, .001, .01, .1, 1, 10, 100]\n",
    "for penalty in c:\n",
    "    log = LogisticRegression(C = penalty)\n",
    "    print '\\n'\n",
    "    print penalty\n",
    "    print '-'*20\n",
    "    print\n",
    "    print '   accuracy score             %.4f ' % np.mean(cross_val_score(log, X,y, cv=10, scoring='accuracy'))\n",
    "    print '   precision score            %.4f ' % np.mean(cross_val_score(log, X,y, cv=10, scoring='precision'))\n",
    "    print '   recall score               %.4f ' % np.mean(cross_val_score(log, X,y, cv=10, scoring='recall'))\n",
    "    print '   f1 score                   %.4f ' % np.mean(cross_val_score(log, X,y, cv=10, scoring='f1'))\n"
   ]
  },
  {
   "cell_type": "markdown",
   "metadata": {},
   "source": [
    "### Decision Tree"
   ]
  },
  {
   "cell_type": "code",
   "execution_count": null,
   "metadata": {
    "collapsed": true
   },
   "outputs": [],
   "source": [
    "scoresTrain = []\n",
    "scoresTest=[]\n",
    "for i in range(1, 21):\n",
    "    model = DecisionTreeClassifier(max_depth = i)\n",
    "    model.fit(X_train, y_train.ravel())\n",
    "    y_train_pred = model.predict(X_train)\n",
    "    scoresTrain.append(accuracy_score(y_train, y_train_pred))\n",
    "    y_test_pred = model.predict(X_test)\n",
    "    scoresTest.append(accuracy_score(y_test, y_test_pred))\n",
    "plotdata = pd.DataFrame(data={'Train': scoresTrain, 'Test': scoresTest})\n",
    "plotdata.index=range(1, 21)\n",
    "%matplotlib inline\n",
    "matplotlib.style.use('ggplot')\n",
    "plotdata.plot()"
   ]
  },
  {
   "cell_type": "markdown",
   "metadata": {},
   "source": [
    "### Random Forest"
   ]
  },
  {
   "cell_type": "code",
   "execution_count": null,
   "metadata": {
    "collapsed": true
   },
   "outputs": [],
   "source": [
    "from sklearn.ensemble import ExtraTreesClassifier\n",
    "from sklearn.pipeline import Pipeline\n",
    "from sklearn.svm import LinearSVC\n",
    "\n",
    "# Build a forest and compute the feature importances\n",
    "forest = ExtraTreesClassifier(n_estimators=250,\n",
    "                              random_state=0)\n",
    "\n",
    "forest.fit(X_train, y_train.ravel())\n",
    "importances = forest.feature_importances_\n",
    "std = np.std([tree.feature_importances_ for tree in forest.estimators_], axis=0)\n",
    "indices = np.argsort(importances)[::-1]\n",
    "\n",
    "#Print the feature ranking\n",
    "print(\"Feature ranking:\")\n",
    "\n",
    "for f in range(len(features)):\n",
    "    print(\"%d. feature %d (%f)\" % (f + 1, indices[f], importances[indices[f]])), features[float(indices[f])]"
   ]
  },
  {
   "cell_type": "markdown",
   "metadata": {},
   "source": [
    "### KNN"
   ]
  },
  {
   "cell_type": "code",
   "execution_count": 136,
   "metadata": {
    "collapsed": false
   },
   "outputs": [
    {
     "data": {
      "text/plain": [
       "<matplotlib.axes._subplots.AxesSubplot at 0x119015cd0>"
      ]
     },
     "execution_count": 136,
     "metadata": {},
     "output_type": "execute_result"
    },
    {
     "data": {
      "image/png": "[encoded data removed]",
      "text/plain": [
       "<matplotlib.figure.Figure at 0x118fe1b10>"
      ]
     },
     "metadata": {},
     "output_type": "display_data"
    }
   ],
   "source": [
    "scoresTrain = []\n",
    "scoresTest=[]\n",
    "for i in range(1, 40):\n",
    "    model = KNeighborsClassifier(n_neighbors=i)\n",
    "    model.fit(X_train, y_train.ravel())\n",
    "    y_train_pred = model.predict(X_train)\n",
    "    scoresTrain.append(accuracy_score(y_train, y_train_pred))\n",
    "    y_test_pred = model.predict(X_test)\n",
    "    scoresTest.append(accuracy_score(y_test, y_test_pred))\n",
    "    \n",
    "plotdata = pd.DataFrame(data={'Train': scoresTrain, 'Test': scoresTest})\n",
    "plotdata.index=range(1, plotdata.shape[0] + 1)\n",
    "plotdata\n",
    "\n",
    "%matplotlib inline\n",
    "plt.style.use('ggplot')\n",
    "plotdata.plot()"
   ]
  },
  {
   "cell_type": "markdown",
   "metadata": {},
   "source": [
    "# Evaluation Metrics"
   ]
  },
  {
   "cell_type": "code",
   "execution_count": 113,
   "metadata": {
    "collapsed": false
   },
   "outputs": [
    {
     "data": {
      "text/html": [
       "<div>\n",
       "<table border=\"1\" class=\"dataframe\">\n",
       "  <thead>\n",
       "    <tr style=\"text-align: right;\">\n",
       "      <th></th>\n",
       "      <th>Accuracy</th>\n",
       "      <th>F1</th>\n",
       "      <th>Model</th>\n",
       "      <th>Precision</th>\n",
       "      <th>Recall</th>\n",
       "    </tr>\n",
       "  </thead>\n",
       "  <tbody>\n",
       "    <tr>\n",
       "      <th>0</th>\n",
       "      <td>0.588</td>\n",
       "      <td>0.735</td>\n",
       "      <td>LogisticRegression</td>\n",
       "      <td>0.591</td>\n",
       "      <td>0.972</td>\n",
       "    </tr>\n",
       "    <tr>\n",
       "      <th>1</th>\n",
       "      <td>0.922</td>\n",
       "      <td>0.933</td>\n",
       "      <td>RandomForestClassifier</td>\n",
       "      <td>0.937</td>\n",
       "      <td>0.930</td>\n",
       "    </tr>\n",
       "    <tr>\n",
       "      <th>2</th>\n",
       "      <td>0.535</td>\n",
       "      <td>0.591</td>\n",
       "      <td>KNeighborsClassifier</td>\n",
       "      <td>0.611</td>\n",
       "      <td>0.573</td>\n",
       "    </tr>\n",
       "    <tr>\n",
       "      <th>3</th>\n",
       "      <td>0.563</td>\n",
       "      <td>0.719</td>\n",
       "      <td>SVC</td>\n",
       "      <td>0.578</td>\n",
       "      <td>0.950</td>\n",
       "    </tr>\n",
       "    <tr>\n",
       "      <th>4</th>\n",
       "      <td>0.910</td>\n",
       "      <td>0.923</td>\n",
       "      <td>DecisionTreeClassifier</td>\n",
       "      <td>0.922</td>\n",
       "      <td>0.925</td>\n",
       "    </tr>\n",
       "    <tr>\n",
       "      <th>5</th>\n",
       "      <td>0.753</td>\n",
       "      <td>0.749</td>\n",
       "      <td>GaussianNB</td>\n",
       "      <td>0.933</td>\n",
       "      <td>0.626</td>\n",
       "    </tr>\n",
       "    <tr>\n",
       "      <th>6</th>\n",
       "      <td>0.923</td>\n",
       "      <td>0.935</td>\n",
       "      <td>GradientBoostingClassifier</td>\n",
       "      <td>0.926</td>\n",
       "      <td>0.945</td>\n",
       "    </tr>\n",
       "  </tbody>\n",
       "</table>\n",
       "</div>"
      ],
      "text/plain": [
       "   Accuracy     F1                       Model  Precision  Recall\n",
       "0     0.588  0.735          LogisticRegression      0.591   0.972\n",
       "1     0.922  0.933      RandomForestClassifier      0.937   0.930\n",
       "2     0.535  0.591        KNeighborsClassifier      0.611   0.573\n",
       "3     0.563  0.719                         SVC      0.578   0.950\n",
       "4     0.910  0.923      DecisionTreeClassifier      0.922   0.925\n",
       "5     0.753  0.749                  GaussianNB      0.933   0.626\n",
       "6     0.923  0.935  GradientBoostingClassifier      0.926   0.945"
      ]
     },
     "execution_count": 113,
     "metadata": {},
     "output_type": "execute_result"
    }
   ],
   "source": [
    "\n",
    "\n",
    "# X_train,X_test,y_train,y_test = train_test_split(X ,y,test_size=0.3, random_state=42)\n",
    "\n",
    "# models = [LogisticRegression, RandomForestClassifier, KNeighborsClassifier,\n",
    "#           SVC, DecisionTreeClassifier, GaussianNB, GradientBoostingClassifier]\n",
    "\n",
    "# results = []\n",
    "# for model in models:\n",
    "#     fit = model().fit(X_train, y_train)\n",
    "#     y_pred = fit.predict(X_test)\n",
    "#     precision = round(precision_score(y_test, y_pred),3)\n",
    "#     recall = round(recall_score(y_test, y_pred), 3)\n",
    "#     f1 = round(f1_score(y_test, y_pred),3)\n",
    "# #     chi = chi2(X, y)\n",
    "# #     coef1 = round(float(chi[0][0]),3)\n",
    "# #     coef2= round(float(chi[0][1]),1)\n",
    "# #     p1 = round(float(chi[1][0]),3)\n",
    "# #     p2 = round(float(chi[1][1]),3)\n",
    "#     accuracy = round(accuracy_score(y_test, y_pred), 3)\n",
    "    \n",
    "#     result = {\n",
    "#         'Model': model.__name__,\n",
    "#         'Precision': precision,\n",
    "#         'Recall': recall,\n",
    "#         'F1': f1,\n",
    "# #         'Coef': coef1,\n",
    "# #         'Coef2': coef2,\n",
    "# #         'P-value': p1,\n",
    "# #         'P-value2': p2, \n",
    "#         'Accuracy': accuracy\n",
    "#     }\n",
    "#     results.append(result)\n",
    "   \n",
    "    \n",
    "# cpo_tot = pd.DataFrame(results)\n",
    "# cpo_tot\n",
    "\n",
    "# ###\n",
    "\n",
    "# X_train,X_test,y_train,y_test = train_test_split(X ,y,test_size=0.3, random_state=42)\n",
    "# classifier = GradientBoostingClassifier()\n",
    "# target_names = ['Winner', 'Loser']\n",
    "# classifier.fit(X_train, y_train)\n",
    "# print model.__name__\n",
    "# print classification_report(y_test, fit.predict(X_test), target_names=target_names)\n",
    "\n",
    "###\n",
    "models = {'log': LogisticRegression(),\n",
    "          'rf': RandomForestClassifier(),\n",
    "          'knn': KNeighborsClassifier(n_neighbors=kbest),\n",
    "          'linsvc': LinearSVC(),\n",
    "          'tree': DecisionTreeClassifier(),\n",
    "          'gnb': GaussianNB(),\n",
    "          'mnb': MultinomialNB(),\n",
    "          'gbc' : GradientBoostingClassifier()\n",
    "         }\n",
    "\n",
    "\n",
    "\n",
    "\n",
    "\n",
    "# pred_probs = {}\n",
    "# scores = {}\n",
    "# preds = {}\n",
    "# for mname, m in models.iteritems():\n",
    "X = StandardScaler().fit_transform(X)\n",
    "# X_train,X_test,y_train,y_test = train_test_split(X ,y,test_size=0.3, random_state=42)\n",
    "\n",
    "#     print \"*** %s\" % mname\n",
    "#     m.fit(X_train, y_train)\n",
    "#     if mname != 'linsvc':\n",
    "#         pred_probs[mname] = {'train': m.predict_proba(X_train),  'test': m.predict_proba(X_test)}\n",
    "#     pred = m.predict(X_test)\n",
    "#     preds[mname] = pred\n",
    "#     prec, recall, fscore, sup = precision_recall_fscore_support(y_test, pred)\n",
    "#     scores[mname] = {'accuracy': accuracy_score(y_test, pred),\n",
    "#                      'precision': prec,\n",
    "#                      'recall': recall,\n",
    "#                      'fscore': fscore}\n",
    "# pprint(scores)\n",
    "\n",
    "# for mname, y_pred in preds.iteritems():\n",
    "#     cm = confusion_matrix(y_test, y_pred)\n",
    "#     cm = np.round(cm.astype('float') / cm.sum(axis=1)[:, np.newaxis], 3)\n",
    "#     ax = sns.heatmap(cm, annot=True, xticklabels=names, yticklabels=names)\n",
    "#     plt.yticks(rotation=0) \n",
    "#     plt.ylabel('True label')\n",
    "#     plt.xlabel('Predicted label')\n",
    "#     plt.title(\"%s confusion matrix, %s\" %(mname, topic))\n",
    "#     sns.plt.show()\n",
    "\n",
    "### coefs\n",
    "\n",
    "def get_scores_coef(X, y):\n",
    "    # X_train,X_test,y_train,y_test = train_test_split(X ,y,test_size=0.3, random_state=42)\n",
    "    for mname, m in model_dict.iteritems():\n",
    "\n",
    "        coefs = sorted(zip(m.coef_[0], X_train.columns))\n",
    "        for coef in coefs:\n",
    "            print '%.05f \\t%s' % (coef)\n",
    "        all_preds[mname] = preds\n",
    "        all_proba[mname] = proba\n",
    "        return coefs"
   ]
  },
  {
   "cell_type": "markdown",
   "metadata": {},
   "source": [
    "# 1 MVP Approach: Just predict the winners, regardless of race\n",
    "1. Try all classifiers, optimizing when necessary \n",
    "2. Evaluate using all metrics \n",
    "    -roc curve, all thresholds \n",
    "    -percision, accuracy, etc. \n",
    "    -knn\n",
    "        -number of ks\n",
    "    -log\n",
    "        -logloss\n",
    "## Decisions:\n"
   ]
  },
  {
   "cell_type": "code",
   "execution_count": 69,
   "metadata": {
    "collapsed": false
   },
   "outputs": [],
   "source": [
    "# n_samples = X_train.shape[0]\n",
    "log = LogisticRegression()\n",
    "# cv = cross_validation.ShuffleSplit(n_samples, n_iter=10, test_size=0.25, random_state=1)\n",
    "# log.fit(X_t)\n",
    "# scores = cross_validation.cross_val_score(log, X_train, y_train.ravel(), cv=cv)\n",
    "y = df['winner']\n",
    "X = df[['total' , 'incumbent', 'party', 'congyear']]\n",
    "\n",
    "y_pred_proba = cross_validation.cross_val_predict(log, X, y, cv=10)\n",
    "# fpr, tpr, _ = sklearn.metrics.roc_curve(y_test, y_pred_proba[:,1])\n",
    "# roc_rates = [fpr, tpr]\n",
    "# auc = sklearn.metrics.auc(fpr, tpr)\n",
    "# plt.title(\"Logistic Regression\", fontsize = 20)\n",
    "# plt.xlabel(\"False positive rate\")\n",
    "# plt.ylabel(\"True positive rate\")\n",
    "# labelname = \"Logistic Regression\" + \", (area = %0.3f)\" % auc\n",
    "# plt.plot(roc_rates[0], roc_rates[1], linewidth = 2, label = labelname)\n",
    "# plt.legend(loc = 4)"
   ]
  },
  {
   "cell_type": "code",
   "execution_count": 90,
   "metadata": {
    "collapsed": false
   },
   "outputs": [
    {
     "data": {
      "text/plain": [
       "0.65417738169095463"
      ]
     },
     "execution_count": 90,
     "metadata": {},
     "output_type": "execute_result"
    }
   ],
   "source": []
  },
  {
   "cell_type": "code",
   "execution_count": null,
   "metadata": {
    "collapsed": true
   },
   "outputs": [],
   "source": [
    "def get_score(model = model(), X=X, y=y, cv=5):\n",
    "    mod = model\n",
    "    scores = cross_validation.cross_val_score(\n",
    "        mod, X, y, cv=cv)\n",
    "    return scores \n",
    "\n"
   ]
  },
  {
   "cell_type": "markdown",
   "metadata": {},
   "source": [
    "# 2 Pick winner based on opponent, whomever has the greater probability"
   ]
  },
  {
   "cell_type": "markdown",
   "metadata": {},
   "source": [
    "# 3 Train as pairs, take into account opponent characterists \n",
    "### Append opponent data to candidate variables ?"
   ]
  },
  {
   "cell_type": "markdown",
   "metadata": {},
   "source": [
    "# Exploratory Graphs\n",
    "scatter marked winner/loser\n",
    "-small/large\n",
    "-crosstables "
   ]
  },
  {
   "cell_type": "code",
   "execution_count": 67,
   "metadata": {
    "collapsed": false
   },
   "outputs": [],
   "source": [
    "xtab = pd.crosstab(np.array(df['cpo']), np.array(df['winner']), rownames=['cpo'], colnames=['outcome'])[:-1]"
   ]
  },
  {
   "cell_type": "markdown",
   "metadata": {},
   "source": [
    "# Graphical Evaluation"
   ]
  },
  {
   "cell_type": "markdown",
   "metadata": {},
   "source": [
    "### Confusion Matrices"
   ]
  },
  {
   "cell_type": "code",
   "execution_count": null,
   "metadata": {
    "collapsed": true
   },
   "outputs": [],
   "source": [
    "n_samples = X_train.shape[0]\n",
    "log = LogisticRegression()\n",
    "cv = cross_validation.ShuffleSplit(n_samples, n_iter=10, test_size=0.3, random_state=1)\n",
    "scores = cross_validation.cross_val_score(log, X_train, y_train.ravel(), cv=cv)\n",
    "# print scores.mean()\n",
    "log.fit(X_train, y_train.ravel())\n",
    "print \"Accuracy Score: %f\" % log.score(X_test, y_test.ravel())\n",
    "\n",
    "log.fit(X_train, y_train.ravel())\n",
    "y_pred = log.predict(X_test)\n",
    "cm = confusion_matrix(y_test, y_pred)\n",
    "labelname = log.classes_\n",
    "sns.heatmap(cm, annot=True,  fmt='', xticklabels=labelname, yticklabels=labelname)\n",
    "\n",
    "###\n",
    "import numpy as np\n",
    "import matplotlib.pyplot as plt\n",
    "\n",
    "from sklearn import svm, datasets\n",
    "from sklearn.cross_validation import train_test_split\n",
    "from sklearn.metrics import confusion_matrix\n",
    "# X = df[['incumbent', 'open', 'challenger', 'percunitem', 'congyear', 'total_sc', 'party', 'primaryperc',\n",
    "#         'close2', 'close5', 'close10', 'leader', 'chairman', 'majorityprev', 'vap', 'adm', 'agr', 'app', 'arm', 'ban', 'bud', \n",
    "#              'bus', 'ecn', 'edu', 'egw', \n",
    "#              'ene', 'for', 'gov', 'hsc', 'int', 'jud',\n",
    "#              'lib', 'nat', 'pri', 'rul', 'sci', 'sta',\n",
    "# #              'tax', 'tra', 'vet', 'way', 'ieagainst', 'ieproxy', 'percpacs', 'ie', 'percind']]\n",
    "# X = df[['ieagainst']]\n",
    "# y = df['winner']\n",
    "\n",
    "labels = ['Winner', \"Loser\"]\n",
    "X_train, X_test, y_train, y_test = train_test_split(X, y, random_state=0)\n",
    "\n",
    "classifier = GradientBoostingClassifier()\n",
    "y_pred = classifier.fit(X, y).predict(X)\n",
    "\n",
    "def plot_confusion_matrix(cm, title='Confusion matrix', cmap=plt.cm.Blues):\n",
    "    plt.imshow(cm, interpolation='nearest', cmap=cmap)\n",
    "    plt.title(title)\n",
    "    plt.colorbar()\n",
    "    tick_marks = np.arange(len(y))\n",
    "    ax.set_xticklabels([''] + labels)\n",
    "    ax.set_yticklabels([''] + labels)\n",
    "    plt.tight_layout()\n",
    "    plt.ylabel('True label')\n",
    "    plt.xlabel('Predicted label')\n",
    "\n",
    "\n",
    "# Compute confusion matrix\n",
    "cm = confusion_matrix(y, y_pred)\n",
    "np.set_printoptions(precision=2)\n",
    "print('Confusion matrix, without normalization')\n",
    "print(cm)\n",
    "fig = plt.figure()\n",
    "fig.patch.set_alpha(0.5)\n",
    "ax = fig.add_subplot(111)\n",
    "ax.patch.set_alpha(0.5)\n",
    "cax = ax.matshow(cm)\n",
    "plot_confusion_matrix(cm)\n",
    "\n",
    "\n",
    "# Normalize the confusion matrix by row (i.e by the number of samples\n",
    "# in each class)\n",
    "cm_normalized = cm.astype('float') / cm.sum(axis=1)[:, np.newaxis]\n",
    "print('Normalized confusion matrix')\n",
    "print(cm_normalized)\n",
    "plt.figure()\n",
    "plot_confusion_matrix(cm_normalized, title='Normalized confusion matrix')\n",
    "\n",
    "plt.show()\n",
    "plt.savefig('temp.png', transparent=True)\n",
    "\n",
    "###\n",
    "def print_cm(cm, labels, hide_zeroes=False, hide_diagonal=False, hide_threshold=None):\n",
    "    \"\"\"pretty print for confusion matrixes\"\"\"\n",
    "    columnwidth = max([len(x) for x in labels]) # 5 is value length\n",
    "    empty_cell = \" \" * columnwidth\n",
    "    # Print header\n",
    "    print \"    \" + empty_cell,\n",
    "    for label in labels: \n",
    "        print \"%{0}s\".format(columnwidth) % label,\n",
    "    print\n",
    "    # Print rows\n",
    "    for i, label1 in enumerate(labels):\n",
    "        print \"    %{0}s\".format(columnwidth) % label1,\n",
    "        for j in range(len(labels)): \n",
    "            cell = \"%{0}.1f\".format(columnwidth) % cm[i, j]\n",
    "            if hide_zeroes:\n",
    "                cell = cell if float(cm[i, j]) != 0 else empty_cell\n",
    "            if hide_diagonal:\n",
    "                cell = cell if i != j else empty_cell\n",
    "            if hide_threshold:\n",
    "                cell = cell if cm[i, j] > hide_threshold else empty_cell\n",
    "            print cell,\n",
    "        print\n",
    "\n",
    "\n",
    "labels = [\"1\", \"2\", \"3\", \"4\"]\n",
    "cm = confusion_matrix(y_pred, y, labels)\n",
    "\n",
    "\n",
    "print_cm(cm, labels)\n",
    "\n",
    "###\n",
    "for mname, y_pred in preds.iteritems():\n",
    "    cm = confusion_matrix(y_test, y_pred)\n",
    "    cm = np.round(cm.astype('float') / cm.sum(axis=1)[:, np.newaxis], 3)\n",
    "    ax = sns.heatmap(cm, annot=True, xticklabels=names, yticklabels=names)\n",
    "    plt.yticks(rotation=0) \n",
    "    plt.ylabel('True label')\n",
    "    plt.xlabel('Predicted label')\n",
    "    plt.title(\"%s confusion matrix, %s\" %(mname, topic))\n",
    "    sns.plt.show()\n"
   ]
  },
  {
   "cell_type": "markdown",
   "metadata": {},
   "source": [
    "### Whatever this is"
   ]
  },
  {
   "cell_type": "code",
   "execution_count": null,
   "metadata": {
    "collapsed": true
   },
   "outputs": [],
   "source": [
    "X = pd.get_dummies(df['cpo']).join(df[['party', 'congyear', 'unitemtotal', 'total', 'total_sc']])\n",
    "y = df['winner']\n",
    "X_train, X_test, y_train, y_test = train_test_split(X, y, test_size=0.2, random_state=46)\n",
    "log = LogisticRegression().fit(X_train, y_train)\n",
    "y_pred_proba = log.predict_proba(X_test)\n",
    "fpr, tpr, _ = roc_curve(ç)\n",
    "roc_rates = [fpr, tpr]\n",
    "auc = auc(fpr, tpr)\n",
    "plt.title(\"Logistic Regression\", fontsize = 20)\n",
    "plt.xlabel(\"False positive rate\")\n",
    "plt.ylabel(\"True positive rate\")\n",
    "labelname = \"Logistic Regression\" + \", (area = %0.3f)\" % auc\n",
    "plt.plot(roc_rates[0], roc_rates[1], linewidth = 2, label = labelname)\n",
    "plt.legend(loc = 4)\n",
    "log_loss(y_test, y_pred_proba[:,1])"
   ]
  },
  {
   "cell_type": "markdown",
   "metadata": {},
   "source": [
    "### ROC"
   ]
  },
  {
   "cell_type": "code",
   "execution_count": null,
   "metadata": {
    "collapsed": true
   },
   "outputs": [],
   "source": [
    "#WRONG\n",
    "sns.set_style(\"white\")\n",
    "fig = plt.figure(figsize=(10,7))\n",
    "ax = fig.add_subplot(111) \n",
    "m = GradientBoostingClassifier()\n",
    "m.fit(X_train, y_train)\n",
    "y_pred = m.predict(X_test)\n",
    "fpr, tpr, thresholds = roc_curve(y_test, y_pred)\n",
    "roc_auc = auc(fpr, tpr)\n",
    "\n",
    "\n",
    "ax.set_ylabel('True Positive Rate', fontsize = 15)\n",
    "ax.set_xlabel('False Positive Rate', fontsize=15)\n",
    "plt.plot(fpr, tpr, color = '#9ecae1')\n",
    "plt.plot([0, 1], [0, 1], color = '#08306b', linestyle = '--')\n",
    "plt.show()\n",
    "plt.savefig('demo.png', transparent=True)\n",
    "\n",
    "###\n",
    "estimators = [\n",
    "    LogisticRegression(), \n",
    "    SVC(probability=True), \n",
    "    GaussianNB(), \n",
    "    DecisionTreeClassifier(max_depth = 5), \n",
    "    RandomForestClassifier(), \n",
    "    KNeighborsClassifier(n_neighbors = 10)\n",
    "    ]\n",
    "\n",
    "names = [\"Logistic Regression\", \"Support Vector Machine\", \"Gaussian Naive Bayes\", \"Decision Tree Classifier\",\n",
    "        \"Random Forest Classifier\", \"K Neighbors - 10\"]\n",
    "\n",
    "colors = [\"b\", \"g\", \"r\", \"k\", \"c\", \"y\"]\n",
    "\n",
    "def roc_rates(estimator, X_train = X_train, y_train = y_train.ravel(), X_test = X_test, y_test = y_test.ravel()):\n",
    "    \n",
    "    #Recursive Features Selection\n",
    "    model = estimator\n",
    "    model.fit(X_train, y_train)\n",
    "    test_pred = model.predict_proba(X_test)\n",
    "    \n",
    "    # return the roc parameters\n",
    "    fpr, tpr, _ = metrics.roc_curve(y_test, test_pred[:,1])\n",
    "    roc_rates = [fpr, tpr]\n",
    "    auc = metrics.auc(fpr, tpr)\n",
    "    return roc_rates, auc\n",
    "\n",
    "#plt.figure(figsize = (15,12))\n",
    "\n",
    "for i, model in enumerate(estimators):\n",
    "    #plt.subplot(2,3, i)\n",
    "    #plt.title(names[i], fontsize = 20)\n",
    "    plt.xlabel(\"False positive rate\")\n",
    "    plt.ylabel(\"True positive rate\")\n",
    "    \n",
    "    # plot parameters using unscaled predictors\n",
    "    params = roc_rates(estimators[i], X_train, y_train.ravel(), X_test, y_test.ravel())[0]\n",
    "    area = roc_rates(estimators[i], X_train, y_train.ravel(), X_test, y_test.ravel())[1]\n",
    "    labelname = names[i] + \", (area = %0.2f)\" % area\n",
    "    plt.plot(params[0], params[1], colors[i] + \"--\", linewidth = 2, label = labelname)\n",
    "    plt.legend(loc = 4)\n",
    "\n",
    "plt.tight_layout()\n",
    "plt.show()\n",
    "\n",
    "# Calculate log_loss\n",
    "for i, estimator in enumerate(estimators):\n",
    "    model = estimator\n",
    "    model.fit(X_train, y_train.ravel())\n",
    "    y_pred = model.predict_proba(X_test)\n",
    "    ll = metrics.log_loss(y_test.ravel(), y_pred[:,1])\n",
    "    print names[i] + ', LogLoss: %0.2f'% ll"
   ]
  }
 ],
 "metadata": {
  "kernelspec": {
   "display_name": "Python 2",
   "language": "python",
   "name": "python2"
  },
  "language_info": {
   "codemirror_mode": {
    "name": "ipython",
    "version": 2
   },
   "file_extension": ".py",
   "mimetype": "text/x-python",
   "name": "python",
   "nbconvert_exporter": "python",
   "pygments_lexer": "ipython2",
   "version": "2.7.10"
  }
 },
 "nbformat": 4,
 "nbformat_minor": 0
}
