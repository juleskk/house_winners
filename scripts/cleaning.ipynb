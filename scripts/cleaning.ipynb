{
 "cells": [
  {
   "cell_type": "code",
   "execution_count": 14,
   "metadata": {
    "collapsed": true
   },
   "outputs": [],
   "source": [
    "import pandas as pd\n",
    "import pickle"
   ]
  },
  {
   "cell_type": "code",
   "execution_count": 52,
   "metadata": {
    "collapsed": false
   },
   "outputs": [],
   "source": [
    "# Reading in data, basic cleaning \n",
    "\n",
    "df=pd.read_csv('../datafiles/stata.csv')\n",
    "\n",
    "df = pd.get_dummies(df['CPO']).join(df)\n",
    "\n",
    "del df['ID2']\n",
    "del df['ReportedTotal']\n",
    "del df['ReportedInd']\n",
    "del df['Party']\n",
    "del df['CPO']\n",
    "df = df.fillna(0)\n",
    "df.columns = df.columns.map(lambda x: x.lower())\n",
    "\n"
   ]
  },
  {
   "cell_type": "code",
   "execution_count": 68,
   "metadata": {
    "collapsed": false
   },
   "outputs": [],
   "source": [
    "df = pd.read_pickle('../datafiles/data.p')\n",
    "a = pd.get_dummies(df['party']).rename(columns = {1: 'dem',\n",
    "                                              2: 'rep'})\n",
    "df = df.merge(a, left_index=True, right_index=True)\n",
    "df = df.drop(['i', 'c', 'o', 'party', 'acceptpacs', 'seat' ], axis=1)"
   ]
  },
  {
   "cell_type": "code",
   "execution_count": 69,
   "metadata": {
    "collapsed": false
   },
   "outputs": [
    {
     "data": {
      "text/plain": [
       "0       FL26\n",
       "1       MI01\n",
       "2       CO03\n",
       "3       PA15\n",
       "4       NY24\n",
       "5       NJ05\n",
       "6       OR01\n",
       "7       AK01\n",
       "8       OH17\n",
       "9       OH15\n",
       "10      NC12\n",
       "11      NH02\n",
       "12      PA02\n",
       "13      WA07\n",
       "14      OH05\n",
       "15      ID02\n",
       "16      MD02\n",
       "17      OH08\n",
       "18      CA17\n",
       "19      PA03\n",
       "20      MO03\n",
       "21      NY29\n",
       "22      VA03\n",
       "23      MA09\n",
       "24      CO06\n",
       "25      GA06\n",
       "26      IA05\n",
       "27      WA09\n",
       "28      GA12\n",
       "29      MD04\n",
       "        ... \n",
       "2226    OH15\n",
       "2227    NY08\n",
       "2228    IL18\n",
       "2229    CO02\n",
       "2230    TX34\n",
       "2231    OH07\n",
       "2232    CA33\n",
       "2233    ME01\n",
       "2234    WA03\n",
       "2235    OR05\n",
       "2236    MO02\n",
       "2237    OR05\n",
       "2238    IN08\n",
       "2239    FL15\n",
       "2240    NM01\n",
       "2241    TN01\n",
       "2242    PA07\n",
       "2243    AR02\n",
       "2244    IN02\n",
       "2245    AR04\n",
       "2246    GA07\n",
       "2247    KS03\n",
       "2248    NH02\n",
       "2249    NC11\n",
       "2250    MI05\n",
       "2251    NV01\n",
       "2252    AL07\n",
       "2253    RI01\n",
       "2254    CA21\n",
       "2255    MO02\n",
       "Name: office, dtype: object"
      ]
     },
     "execution_count": 69,
     "metadata": {},
     "output_type": "execute_result"
    }
   ],
   "source": [
    "df['office']"
   ]
  },
  {
   "cell_type": "code",
   "execution_count": 36,
   "metadata": {
    "collapsed": false
   },
   "outputs": [],
   "source": [
    "# Making new variables \n",
    "\n",
    "col_list_unitem= ['unitemind', 'unitempacs', 'unitemfor', 'unitemproxy']\n",
    "col_list_item = ['itemind', 'unitempacs', 'unitemfor', 'unitemproxy']\n",
    "df['unitemtotal'] = df[col_list_unitem].sum(axis=1) \n",
    "df['itemtotal'] = df[col_list_item].sum(axis=1)\n",
    "df['total'] = df[['unitemtotal', 'itemtotal']].sum(axis=1)\n",
    "df['unitemie'] = df[['unitemfor', 'unitemproxy']].sum(axis=1)\n",
    "df['itemie'] = df[['itemfor', 'itemproxy']].sum(axis=1)\n",
    "df['percunitem'] = df['unitemtotal']/df['total']\n",
    "df['total'] = df['total'].apply(lambda x: float(x))\n",
    "df['percpacs']= df['totalpacs']/df['total']\n",
    "df['ie'] = df['iefor'] + df['ieproxy']\n",
    "df['percie'] = df['ie']/df['total']\n",
    "df['percind']= df['totalind']/df['total']\n",
    "df['percstate']= df['instate']/df['total']"
   ]
  },
  {
   "cell_type": "code",
   "execution_count": 37,
   "metadata": {
    "collapsed": false
   },
   "outputs": [],
   "source": [
    "pickle.dump( df, open( \"../datafiles/data.p\", \"wb\" ) )"
   ]
  },
  {
   "cell_type": "code",
   "execution_count": null,
   "metadata": {
    "collapsed": true
   },
   "outputs": [],
   "source": []
  }
 ],
 "metadata": {
  "kernelspec": {
   "display_name": "Python 2",
   "language": "python",
   "name": "python2"
  },
  "language_info": {
   "codemirror_mode": {
    "name": "ipython",
    "version": 2
   },
   "file_extension": ".py",
   "mimetype": "text/x-python",
   "name": "python",
   "nbconvert_exporter": "python",
   "pygments_lexer": "ipython2",
   "version": "2.7.10"
  }
 },
 "nbformat": 4,
 "nbformat_minor": 0
}
