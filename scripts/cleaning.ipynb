{
 "cells": [
  {
   "cell_type": "markdown",
   "metadata": {},
   "source": [
    "So I've got all this data about a year ago for my dissertation, everything in SQL.\n",
    "It's not exactly reproducible, but here is the code I've used for cleaning this data.\n",
    "\n",
    "No need to run this file, as the result (`data.p`) is already checked in. "
   ]
  },
  {
   "cell_type": "code",
   "execution_count": 14,
   "metadata": {
    "collapsed": true
   },
   "outputs": [],
   "source": [
    "import pandas as pd\n",
    "import pickle"
   ]
  },
  {
   "cell_type": "code",
   "execution_count": 52,
   "metadata": {
    "collapsed": false
   },
   "outputs": [],
   "source": [
    "# Reading in data, basic cleaning \n",
    "\n",
    "df=pd.read_csv('../datafiles/stata.csv')\n",
    "\n",
    "df = pd.get_dummies(df['CPO']).join(df)\n",
    "\n",
    "del df['ID2']\n",
    "del df['ReportedTotal']\n",
    "del df['ReportedInd']\n",
    "del df['Party']\n",
    "del df['CPO']\n",
    "df = df.fillna(0)\n",
    "df.columns = df.columns.map(lambda x: x.lower())\n",
    "\n"
   ]
  },
  {
   "cell_type": "code",
   "execution_count": 68,
   "metadata": {
    "collapsed": false
   },
   "outputs": [],
   "source": [
    "df = pd.read_pickle('../datafiles/data.p')\n",
    "a = pd.get_dummies(df['party']).rename(columns = {1: 'dem',\n",
    "                                              2: 'rep'})\n",
    "df = df.merge(a, left_index=True, right_index=True)\n",
    "df = df.drop(['i', 'c', 'o', 'party', 'acceptpacs', 'seat' ], axis=1)"
   ]
  },
  {
   "cell_type": "code",
   "execution_count": 36,
   "metadata": {
    "collapsed": false
   },
   "outputs": [],
   "source": [
    "# Computing various statistics\n",
    "\n",
    "col_list_unitem= ['unitemind', 'unitempacs', 'unitemfor', 'unitemproxy']\n",
    "col_list_item = ['itemind', 'unitempacs', 'unitemfor', 'unitemproxy']\n",
    "df['unitemtotal'] = df[col_list_unitem].sum(axis=1) \n",
    "df['itemtotal'] = df[col_list_item].sum(axis=1)\n",
    "df['total'] = df[['unitemtotal', 'itemtotal']].sum(axis=1)\n",
    "df['unitemie'] = df[['unitemfor', 'unitemproxy']].sum(axis=1)\n",
    "df['itemie'] = df[['itemfor', 'itemproxy']].sum(axis=1)\n",
    "df['percunitem'] = df['unitemtotal']/df['total']\n",
    "df['total'] = df['total'].apply(lambda x: float(x))\n",
    "df['percpacs']= df['totalpacs']/df['total']\n",
    "df['ie'] = df['iefor'] + df['ieproxy']\n",
    "df['percie'] = df['ie']/df['total']\n",
    "df['percind']= df['totalind']/df['total']\n",
    "df['percstate']= df['instate']/df['total']"
   ]
  },
  {
   "cell_type": "code",
   "execution_count": null,
   "metadata": {
    "collapsed": true
   },
   "outputs": [],
   "source": [
    "def rename_duplicate_columns(df):\n",
    "    L = df.columns\n",
    "    seen = {}\n",
    "    result = []\n",
    "    for column in L:\n",
    "        if not column in seen:\n",
    "            seen[column] = 1\n",
    "            result.append(column)\n",
    "        else:\n",
    "            seen[column] +=1 \n",
    "            result.append('%s_%d' % (column, seen[column]))\n",
    "    df.columns = result\n",
    "    return df\n",
    "\n",
    "df = rename_duplicate_columns(df)\n",
    "df = df.drop('congyear', axis =1)\n",
    "df = df.rename(columns = {\"congyear_2\" : 'congyear'})\n"
   ]
  },
  {
   "cell_type": "code",
   "execution_count": 37,
   "metadata": {
    "collapsed": false
   },
   "outputs": [],
   "source": [
    "pickle.dump( df, open( \"../datafiles/data.p\", \"wb\" ) )"
   ]
  },
  {
   "cell_type": "code",
   "execution_count": null,
   "metadata": {
    "collapsed": true
   },
   "outputs": [],
   "source": []
  }
 ],
 "metadata": {
  "kernelspec": {
   "display_name": "Python 2",
   "language": "python",
   "name": "python2"
  },
  "language_info": {
   "codemirror_mode": {
    "name": "ipython",
    "version": 2
   },
   "file_extension": ".py",
   "mimetype": "text/x-python",
   "name": "python",
   "nbconvert_exporter": "python",
   "pygments_lexer": "ipython2",
   "version": "2.7.10"
  }
 },
 "nbformat": 4,
 "nbformat_minor": 0
}
